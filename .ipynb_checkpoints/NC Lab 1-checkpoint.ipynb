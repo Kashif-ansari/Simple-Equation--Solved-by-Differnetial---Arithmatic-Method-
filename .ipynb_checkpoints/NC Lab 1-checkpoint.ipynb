{
 "cells": [
  {
   "cell_type": "code",
   "execution_count": 1,
   "metadata": {},
   "outputs": [
    {
     "name": "stdout",
     "output_type": "stream",
     "text": [
      "0  is an even number\n",
      "1  is an odd number\n",
      "2  is an even number\n",
      "3  is an odd number\n",
      "4  is an even number\n",
      "5  is an odd number\n",
      "6  is an even number\n",
      "7  is an odd number\n",
      "8  is an even number\n",
      "9  is an odd number\n"
     ]
    }
   ],
   "source": [
    "for i in range(10):\n",
    "    a = i % 2\n",
    "    if a != 0:\n",
    "        print(i, \" is an odd number\");\n",
    "    else:\n",
    "        print(i, \" is an even number\");"
   ]
  },
  {
   "cell_type": "code",
   "execution_count": 2,
   "metadata": {},
   "outputs": [
    {
     "name": "stdout",
     "output_type": "stream",
     "text": [
      "2 X  0  =  0\n",
      "2 X  1  =  2\n",
      "2 X  2  =  4\n",
      "2 X  3  =  6\n",
      "2 X  4  =  8\n",
      "2 X  5  =  10\n",
      "2 X  6  =  12\n",
      "2 X  7  =  14\n",
      "2 X  8  =  16\n",
      "2 X  9  =  18\n",
      "2 X  10  =  20\n"
     ]
    }
   ],
   "source": [
    "for i in range(11):\n",
    "    a = 2*i\n",
    "    print(\"2 X \",i,\" = \",a)"
   ]
  },
  {
   "cell_type": "code",
   "execution_count": 1,
   "metadata": {
    "scrolled": true
   },
   "outputs": [
    {
     "name": "stdout",
     "output_type": "stream",
     "text": [
      "64\n",
      "1.0\n",
      "12\n",
      "2\n",
      "3\n",
      "2.0\n"
     ]
    }
   ],
   "source": [
    "import sympy as s\n",
    "import math as m\n",
    "print(pow(4,3))\n",
    "print(m.fmod(4,3))\n",
    "print(abs(-12))\n",
    "print(round(2.5))\n",
    "print(m.ceil(2.5))\n",
    "print(m.sqrt(4))"
   ]
  },
  {
   "cell_type": "code",
   "execution_count": 16,
   "metadata": {
    "scrolled": true
   },
   "outputs": [
    {
     "name": "stdout",
     "output_type": "stream",
     "text": [
      "8*x\n"
     ]
    }
   ],
   "source": [
    "x=s.Symbol('x')\n",
    "eq = 4*x**2\n",
    "ans = s.diff(eq)\n",
    "print(ans)"
   ]
  },
  {
   "cell_type": "code",
   "execution_count": 18,
   "metadata": {
    "scrolled": true
   },
   "outputs": [
    {
     "name": "stdout",
     "output_type": "stream",
     "text": [
      "5.0\n"
     ]
    }
   ],
   "source": [
    "a = 2\n",
    "b = 3\n",
    "c = a+b\n",
    "d= pow(c,2)/c\n",
    "print(d)"
   ]
  },
  {
   "cell_type": "code",
   "execution_count": 21,
   "metadata": {},
   "outputs": [
    {
     "name": "stdout",
     "output_type": "stream",
     "text": [
      "16.0000000000000\n"
     ]
    }
   ],
   "source": [
    "x=s.Symbol('x')\n",
    "eq = 4*x**2\n",
    "ans = s.diff(eq).evalf(subs={x:2})\n",
    "print(ans)"
   ]
  },
  {
   "cell_type": "code",
   "execution_count": 27,
   "metadata": {},
   "outputs": [
    {
     "name": "stdout",
     "output_type": "stream",
     "text": [
      "2*x*y\n"
     ]
    }
   ],
   "source": [
    "x=s.Symbol('x')\n",
    "y = s.Symbol('y')\n",
    "eq = (x**2)*y\n",
    "ans = s.diff(eq,x)\n",
    "print(ans)"
   ]
  },
  {
   "cell_type": "code",
   "execution_count": 29,
   "metadata": {},
   "outputs": [
    {
     "name": "stdout",
     "output_type": "stream",
     "text": [
      "2*x*y\n"
     ]
    }
   ],
   "source": [
    "x=s.Symbol('x')\n",
    "h = s.Symbol('h')\n",
    "eq = ((x**2)*y)\n",
    "ans = s.diff(eq,x)\n",
    "print(ans)"
   ]
  },
  {
   "cell_type": "code",
   "execution_count": 31,
   "metadata": {},
   "outputs": [
    {
     "name": "stdout",
     "output_type": "stream",
     "text": [
      "9.51398639960666\n"
     ]
    }
   ],
   "source": [
    "x=s.Symbol('x')\n",
    "y = m.exp(0.5)\n",
    "eq = 7*y**x\n",
    "ans = s.diff(eq,x).evalf(subs={x:2})\n",
    "print(ans)"
   ]
  },
  {
   "cell_type": "code",
   "execution_count": 6,
   "metadata": {},
   "outputs": [
    {
     "name": "stdout",
     "output_type": "stream",
     "text": [
      "9.51398639960666\n"
     ]
    }
   ],
   "source": [
    "x=s.Symbol('x')\n",
    "eq = 7*m.exp(0.5)**x\n",
    "ans = s.diff(eq,x).evalf(subs={x:2})\n",
    "print(ans)"
   ]
  },
  {
   "cell_type": "code",
   "execution_count": 9,
   "metadata": {},
   "outputs": [
    {
     "name": "stdout",
     "output_type": "stream",
     "text": [
      "11.0536751839142\n",
      "0\n",
      "36.8455839463806\n"
     ]
    }
   ],
   "source": [
    "x=s.Symbol('x')\n",
    "eq = 7*m.exp(0.5)**x\n",
    "ans = s.diff(eq,x).evalf(subs={x:2.3})\n",
    "print(ans)\n",
    "y=s.Symbol('y')\n",
    "eq1 = 7*m.exp(0.5)**y\n",
    "ans1 = s.diff(eq,y).evalf(subs={y:2})\n",
    "print(ans1)\n",
    "\n",
    "eq2 = (ans-ans1)/0.3\n",
    "print(eq2)"
   ]
  },
  {
   "cell_type": "code",
   "execution_count": 14,
   "metadata": {},
   "outputs": [
    {
     "name": "stdout",
     "output_type": "stream",
     "text": [
      "True value  9.51398639960666\n",
      "approximate value  10.264591895383516\n"
     ]
    }
   ],
   "source": [
    "x=s.Symbol('x')\n",
    "eq = 7*m.exp(0.5)**x\n",
    "ans = s.diff(eq,x).evalf(subs={x:2})\n",
    "print(\"True value \",ans)\n",
    "y = m.exp(0.5)\n",
    "eq = (7*y**2.3-7*y**2)/0.3\n",
    "print(\"approximate value \",eq)"
   ]
  },
  {
   "cell_type": "code",
   "execution_count": 24,
   "metadata": {},
   "outputs": [
    {
     "name": "stdout",
     "output_type": "stream",
     "text": [
      "True value  80.0000000000000\n",
      "Approximatly value   88.36999999999999\n"
     ]
    }
   ],
   "source": [
    "x=s.Symbol('x')\n",
    "eq = (3*x**3)-x\n",
    "ans = s.diff(eq,x).evalf(subs={x:3})\n",
    "print(\"True value \",ans)\n",
    "\n",
    "a = 3*(3+0.3)**3-3.3\n",
    "b = 3*3**3-3\n",
    "\n",
    "eq = (a-b)/0.3\n",
    "print(\"Approximatly value  \",eq)"
   ]
  },
  {
   "cell_type": "code",
   "execution_count": 25,
   "metadata": {},
   "outputs": [
    {
     "name": "stdout",
     "output_type": "stream",
     "text": [
      "True value  33.0000000000000\n",
      "Approximatly value   37.379999999999995\n"
     ]
    }
   ],
   "source": [
    "x=s.Symbol('x')\n",
    "eq = 2*x**3-4*x**2+3*x+1\n",
    "ans = s.diff(eq,x).evalf(subs={x:3})\n",
    "print(\"True value \",ans)\n",
    "a = 2*3.3**3-4*3.3**2+3*3.3+1\n",
    "b = 2*3**3-4*3**2+3*3+1\n",
    "eq = (a-b)/0.3\n",
    "print(\"Approximatly value  \",eq)"
   ]
  },
  {
   "cell_type": "code",
   "execution_count": 27,
   "metadata": {},
   "outputs": [
    {
     "name": "stdout",
     "output_type": "stream",
     "text": [
      "True value  -0.279415498198926\n",
      "Approximatly value   0.0829456800691174 - 3.33333333333333*sin(3)**2\n"
     ]
    }
   ],
   "source": [
    "x=s.Symbol('x')\n",
    "eq = s.sin(x)**2\n",
    "ans = s.diff(eq,x).evalf(subs={x:3})\n",
    "print(\"True value \",ans)\n",
    "a = s.sin(3.3)**2\n",
    "b = s.sin(3)**2\n",
    "eq = (a-b)/0.3\n",
    "print(\"Approximatly value  \",eq)"
   ]
  },
  {
   "cell_type": "code",
   "execution_count": null,
   "metadata": {},
   "outputs": [],
   "source": []
  }
 ],
 "metadata": {
  "kernelspec": {
   "display_name": "Python 3",
   "language": "python",
   "name": "python3"
  },
  "language_info": {
   "codemirror_mode": {
    "name": "ipython",
    "version": 3
   },
   "file_extension": ".py",
   "mimetype": "text/x-python",
   "name": "python",
   "nbconvert_exporter": "python",
   "pygments_lexer": "ipython3",
   "version": "3.8.8"
  }
 },
 "nbformat": 4,
 "nbformat_minor": 2
}
