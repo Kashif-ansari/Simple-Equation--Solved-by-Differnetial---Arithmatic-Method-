{
 "cells": [
  {
   "cell_type": "code",
   "execution_count": 18,
   "metadata": {},
   "outputs": [
    {
     "name": "stdout",
     "output_type": "stream",
     "text": [
      "2.0\n",
      "9\n",
      "2\n",
      "2\n",
      "1.0\n",
      "3\n"
     ]
    }
   ],
   "source": [
    "import math as m\n",
    "import sympy as S\n",
    "b= pow(3,2)\n",
    "a= m.sqrt(4)\n",
    "c= round(2.5)\n",
    "d= abs(-2)\n",
    "e= m.fmod(4,3)\n",
    "f= m.ceil(2.5)\n",
    "print(a)\n",
    "print(b)\n",
    "print(c)\n",
    "print(d)\n",
    "print(e)\n",
    "print(f)"
   ]
  },
  {
   "cell_type": "code",
   "execution_count": 22,
   "metadata": {},
   "outputs": [
    {
     "name": "stdout",
     "output_type": "stream",
     "text": [
      "8*x\n"
     ]
    }
   ],
   "source": [
    "x= S.Symbol('x')\n",
    "eq= 4*x**2\n",
    "ans= S.diff(eq)\n",
    "print(ans)"
   ]
  },
  {
   "cell_type": "code",
   "execution_count": 25,
   "metadata": {},
   "outputs": [
    {
     "name": "stdout",
     "output_type": "stream",
     "text": [
      "5.0\n"
     ]
    }
   ],
   "source": [
    "a=2\n",
    "b= 3\n",
    "c = a+b\n",
    "\n",
    "d= pow(c,2)\n",
    "e = d/c\n",
    "print(e)\n",
    "\n"
   ]
  },
  {
   "cell_type": "code",
   "execution_count": 33,
   "metadata": {},
   "outputs": [
    {
     "name": "stdout",
     "output_type": "stream",
     "text": [
      "2*x*y\n"
     ]
    }
   ],
   "source": [
    "x= S.Symbol('x')\n",
    "eq= 4*(x**2)\n",
    "ans= S.diff(eq).evalf(subs={x:2})\n",
    "print(ans)"
   ]
  },
  {
   "cell_type": "code",
   "execution_count": 34,
   "metadata": {},
   "outputs": [
    {
     "name": "stdout",
     "output_type": "stream",
     "text": [
      "8*x*y\n"
     ]
    }
   ],
   "source": [
    "x= S.Symbol('x')\n",
    "y= S.Symbol('y')\n",
    "eq= 4*(x**2)*y\n",
    "ans= S.diff(eq,x) \n",
    "print(ans)"
   ]
  },
  {
   "cell_type": "code",
   "execution_count": 39,
   "metadata": {},
   "outputs": [
    {
     "name": "stdout",
     "output_type": "stream",
     "text": [
      "9.51398639960666\n"
     ]
    }
   ],
   "source": [
    "x= S.Symbol('x')\n",
    "y= m.exp(0.5)**x\n",
    "eq= 7*y\n",
    "ans= S.diff(eq).evalf(subs={x:2})\n",
    "print(ans)"
   ]
  },
  {
   "cell_type": "code",
   "execution_count": 43,
   "metadata": {},
   "outputs": [
    {
     "name": "stdout",
     "output_type": "stream",
     "text": [
      "10.264591895383516\n"
     ]
    }
   ],
   "source": [
    "x= S.Symbol('x')\n",
    "h = 0.3\n",
    "y= m.exp(0.5)\n",
    "eq= (7*y**2.3 - 7*y**2)/0.3\n",
    "\n",
    "print(eq)"
   ]
  },
  {
   "cell_type": "code",
   "execution_count": 47,
   "metadata": {},
   "outputs": [
    {
     "name": "stdout",
     "output_type": "stream",
     "text": [
      "true value 9.51398639960666\n",
      "Approx value 10.264591895383516\n",
      "true error -0.750605495776858\n"
     ]
    }
   ],
   "source": [
    "x= S.Symbol('x')\n",
    "y= m.exp(0.5)**x\n",
    "eq= 7*y\n",
    "ans= S.diff(eq).evalf(subs={x:2})\n",
    "y1= m.exp(0.5)\n",
    "eq1= (7*y1**2.3 - 7*y1**2)/0.3\n",
    "print(\"true value\",ans)\n",
    "print(\"Approx value\",eq1)\n",
    "truee= ans-eq1\n",
    "print(\"true error\",truee)"
   ]
  },
  {
   "cell_type": "code",
   "execution_count": 70,
   "metadata": {},
   "outputs": [
    {
     "name": "stdout",
     "output_type": "stream",
     "text": [
      "Answer 1: true value 80.0000000000000\n",
      "35.135025328431816\n",
      "44.8649746715682\n"
     ]
    }
   ],
   "source": [
    "x= S.Symbol('x')\n",
    "eq= 3*(x**3)-x\n",
    "ans= S.diff(eq).evalf(subs={x:3})\n",
    "print(\"Answer 1: true value\",ans)\n",
    "eq2=(3**3.3 - (3**3))/0.3 \n",
    "print(eq2)\n",
    "truee= ans-eq2\n",
    "print(truee)"
   ]
  },
  {
   "cell_type": "code",
   "execution_count": 72,
   "metadata": {},
   "outputs": [
    {
     "name": "stdout",
     "output_type": "stream",
     "text": [
      "Answer 1: true value -0.989992496600445\n"
     ]
    }
   ],
   "source": [
    "x= S.Symbol('x')\n",
    "eq1 = S.sin(x)\n",
    "ans= S.diff(eq1).evalf(subs={x:3})\n",
    "print(\"Answer 1: true value\",ans)\n",
    "eq2=s.sin(x)\n",
    "\n"
   ]
  },
  {
   "cell_type": "code",
   "execution_count": null,
   "metadata": {},
   "outputs": [],
   "source": []
  }
 ],
 "metadata": {
  "kernelspec": {
   "display_name": "Python 3",
   "language": "python",
   "name": "python3"
  },
  "language_info": {
   "codemirror_mode": {
    "name": "ipython",
    "version": 3
   },
   "file_extension": ".py",
   "mimetype": "text/x-python",
   "name": "python",
   "nbconvert_exporter": "python",
   "pygments_lexer": "ipython3",
   "version": "3.8.8"
  }
 },
 "nbformat": 4,
 "nbformat_minor": 2
}
